{
 "cells": [
  {
   "cell_type": "code",
   "execution_count": 1,
   "metadata": {
    "id": "GQJLMrrko9UJ",
    "slideshow": {
     "slide_type": "skip"
    }
   },
   "outputs": [],
   "source": [
    "import pandas as pd\n",
    "import numpy as np\n",
    "import matplotlib.pyplot as plt\n",
    "import seaborn as sb\n",
    "\n",
    "%matplotlib inline\n"
   ]
  },
  {
   "cell_type": "markdown",
   "metadata": {
    "id": "_5yhJqvziM7r",
    "slideshow": {
     "slide_type": "slide"
    }
   },
   "source": [
    "## Risk Factors for Cervical Cancer "
   ]
  },
  {
   "cell_type": "markdown",
   "metadata": {
    "id": "4ykblQGFiV8r",
    "slideshow": {
     "slide_type": "slide"
    }
   },
   "source": [
    "## Summary of The Dataset\n",
    "The dataset that I researched included 858 female patients and a number of factors that could contribute to an increased risk of developing cervical cancer.  I chose to focus on six of these factors including: age, smoking habits, use of hormonal contraceptives, number of pregnancies, and HPV diagnosis.  \n",
    "\n",
    "My goal was to see if there was any positive correlation between one or multiple risk factors (of those mentioned above) and a positive cervical cancer diagnosis.  I have included information from previous studies to compare my results to and see if the information from this dataset lines up with current research findings."
   ]
  },
  {
   "cell_type": "markdown",
   "metadata": {
    "id": "TEQnwRHf33eT",
    "slideshow": {
     "slide_type": "slide"
    }
   },
   "source": [
    " ## Data Research Information\n",
    " \n",
    " - AGE: Fifty percent of cervical cancer diagnoses occur in women ages 35 - 54, and about 20% occur in women over 65 years of age. The median age of diagnosis is 48 years. About 15% of women develop cervical cancer between the ages of 20 - 30. Cervical cancer is extremely rare in women younger than age 20. However, many young women become infected with multiple types of human papilloma virus, which then can increase their risk of getting cervical cancer in the future. Young women with early abnormal changes who do not have regular examinations are at high risk for localized cancer by the time they are age 40, and for invasive cancer by age 50. \n",
    " \n",
    " \n",
    " "
   ]
  },
  {
   "cell_type": "markdown",
   "metadata": {
    "slideshow": {
     "slide_type": "slide"
    }
   },
   "source": [
    "## Data Research Information Cont.\n",
    "\n",
    "- USE OF  ORAL CONTRACEPTIVES: Studies have reported a strong association between cervical cancer and long-term use of oral contraception (OC). Women who take birth control pills for more than 5 - 10 years appear to have a much higher risk HPV infection (up to four times higher) than those who do not use OCs. (Women taking OCs for fewer than 5 years do not have a significantly higher risk.) The reasons for this risk from OC use are not entirely clear. Women who use OCs may be less likely to use a diaphragm, condoms, or other methods that offer some protection against sexual transmitted diseases, including HPV. Some research also suggests that the hormones in OCs might help the virus enter the genetic material of cervical cells. "
   ]
  },
  {
   "cell_type": "markdown",
   "metadata": {
    "slideshow": {
     "slide_type": "slide"
    }
   },
   "source": [
    "## Data Research Information Cont.\n",
    "\n",
    "- HAVING MANY CHILDREN: Studies indicate that having many children increases the risk for developing cervical cancer, particularly in women infected with HPV. \n",
    "- SMOKING: Smoking is associated with a higher risk for precancerous changes (dysplasia) in the cervix and for progression to invasive cervical cancer, especially for women infected with HPV. \n",
    "\n",
    "     Research information obtained from <a href=https://www.kaggle.com/loveall/cervical-cancer-risk-classification>Kaggle   Cervical Cancer Risks Classification</a>\n",
    " "
   ]
  },
  {
   "cell_type": "code",
   "execution_count": 2,
   "metadata": {
    "colab": {
     "base_uri": "https://localhost:8080/"
    },
    "id": "djWX-BCmsnf6",
    "outputId": "0adc0640-7b6b-4d8a-c0b0-bc4cb7a6a2bc",
    "slideshow": {
     "slide_type": "skip"
    }
   },
   "outputs": [
    {
     "name": "stdout",
     "output_type": "stream",
     "text": [
      "Cloning into 'Cervical_Cancer_Risk_Factors'...\n",
      "remote: Enumerating objects: 25, done.\u001b[K\n",
      "remote: Counting objects: 100% (25/25), done.\u001b[K\n",
      "remote: Compressing objects: 100% (25/25), done.\u001b[K\n",
      "remote: Total 25 (delta 10), reused 0 (delta 0), pack-reused 0\u001b[K\n",
      "Unpacking objects: 100% (25/25), done.\n"
     ]
    }
   ],
   "source": [
    "!git clone https://github.com/Lthom17/Cervical_Cancer_Risk_Factors"
   ]
  },
  {
   "cell_type": "code",
   "execution_count": 3,
   "metadata": {
    "colab": {
     "base_uri": "https://localhost:8080/",
     "height": 292
    },
    "id": "bHd3FNluo-9Q",
    "outputId": "fa1c19a8-a27e-4198-d10b-b1797c23a893",
    "slideshow": {
     "slide_type": "skip"
    }
   },
   "outputs": [
    {
     "data": {
      "text/html": [
       "<div>\n",
       "<style scoped>\n",
       "    .dataframe tbody tr th:only-of-type {\n",
       "        vertical-align: middle;\n",
       "    }\n",
       "\n",
       "    .dataframe tbody tr th {\n",
       "        vertical-align: top;\n",
       "    }\n",
       "\n",
       "    .dataframe thead th {\n",
       "        text-align: right;\n",
       "    }\n",
       "</style>\n",
       "<table border=\"1\" class=\"dataframe\">\n",
       "  <thead>\n",
       "    <tr style=\"text-align: right;\">\n",
       "      <th></th>\n",
       "      <th>Age</th>\n",
       "      <th>Number of sexual partners</th>\n",
       "      <th>First sexual intercourse</th>\n",
       "      <th>Num of pregnancies</th>\n",
       "      <th>Smokes</th>\n",
       "      <th>Smokes (years)</th>\n",
       "      <th>Smokes (packs/year)</th>\n",
       "      <th>Hormonal Contraceptives</th>\n",
       "      <th>Hormonal Contraceptives (years)</th>\n",
       "      <th>IUD</th>\n",
       "      <th>...</th>\n",
       "      <th>STDs: Time since first diagnosis</th>\n",
       "      <th>STDs: Time since last diagnosis</th>\n",
       "      <th>Dx:Cancer</th>\n",
       "      <th>Dx:CIN</th>\n",
       "      <th>Dx:HPV</th>\n",
       "      <th>Dx</th>\n",
       "      <th>Hinselmann</th>\n",
       "      <th>Schiller</th>\n",
       "      <th>Citology</th>\n",
       "      <th>Biopsy</th>\n",
       "    </tr>\n",
       "  </thead>\n",
       "  <tbody>\n",
       "    <tr>\n",
       "      <th>0</th>\n",
       "      <td>18</td>\n",
       "      <td>4.0</td>\n",
       "      <td>15.0</td>\n",
       "      <td>1.0</td>\n",
       "      <td>0.0</td>\n",
       "      <td>0.0</td>\n",
       "      <td>0.0</td>\n",
       "      <td>0.0</td>\n",
       "      <td>0.0</td>\n",
       "      <td>0.0</td>\n",
       "      <td>...</td>\n",
       "      <td>?</td>\n",
       "      <td>?</td>\n",
       "      <td>0</td>\n",
       "      <td>0</td>\n",
       "      <td>0</td>\n",
       "      <td>0</td>\n",
       "      <td>0</td>\n",
       "      <td>0</td>\n",
       "      <td>0</td>\n",
       "      <td>0</td>\n",
       "    </tr>\n",
       "    <tr>\n",
       "      <th>1</th>\n",
       "      <td>15</td>\n",
       "      <td>1.0</td>\n",
       "      <td>14.0</td>\n",
       "      <td>1.0</td>\n",
       "      <td>0.0</td>\n",
       "      <td>0.0</td>\n",
       "      <td>0.0</td>\n",
       "      <td>0.0</td>\n",
       "      <td>0.0</td>\n",
       "      <td>0.0</td>\n",
       "      <td>...</td>\n",
       "      <td>?</td>\n",
       "      <td>?</td>\n",
       "      <td>0</td>\n",
       "      <td>0</td>\n",
       "      <td>0</td>\n",
       "      <td>0</td>\n",
       "      <td>0</td>\n",
       "      <td>0</td>\n",
       "      <td>0</td>\n",
       "      <td>0</td>\n",
       "    </tr>\n",
       "    <tr>\n",
       "      <th>2</th>\n",
       "      <td>34</td>\n",
       "      <td>1.0</td>\n",
       "      <td>?</td>\n",
       "      <td>1.0</td>\n",
       "      <td>0.0</td>\n",
       "      <td>0.0</td>\n",
       "      <td>0.0</td>\n",
       "      <td>0.0</td>\n",
       "      <td>0.0</td>\n",
       "      <td>0.0</td>\n",
       "      <td>...</td>\n",
       "      <td>?</td>\n",
       "      <td>?</td>\n",
       "      <td>0</td>\n",
       "      <td>0</td>\n",
       "      <td>0</td>\n",
       "      <td>0</td>\n",
       "      <td>0</td>\n",
       "      <td>0</td>\n",
       "      <td>0</td>\n",
       "      <td>0</td>\n",
       "    </tr>\n",
       "    <tr>\n",
       "      <th>3</th>\n",
       "      <td>52</td>\n",
       "      <td>5.0</td>\n",
       "      <td>16.0</td>\n",
       "      <td>4.0</td>\n",
       "      <td>1.0</td>\n",
       "      <td>37.0</td>\n",
       "      <td>37.0</td>\n",
       "      <td>1.0</td>\n",
       "      <td>3.0</td>\n",
       "      <td>0.0</td>\n",
       "      <td>...</td>\n",
       "      <td>?</td>\n",
       "      <td>?</td>\n",
       "      <td>1</td>\n",
       "      <td>0</td>\n",
       "      <td>1</td>\n",
       "      <td>0</td>\n",
       "      <td>0</td>\n",
       "      <td>0</td>\n",
       "      <td>0</td>\n",
       "      <td>0</td>\n",
       "    </tr>\n",
       "    <tr>\n",
       "      <th>4</th>\n",
       "      <td>46</td>\n",
       "      <td>3.0</td>\n",
       "      <td>21.0</td>\n",
       "      <td>4.0</td>\n",
       "      <td>0.0</td>\n",
       "      <td>0.0</td>\n",
       "      <td>0.0</td>\n",
       "      <td>1.0</td>\n",
       "      <td>15.0</td>\n",
       "      <td>0.0</td>\n",
       "      <td>...</td>\n",
       "      <td>?</td>\n",
       "      <td>?</td>\n",
       "      <td>0</td>\n",
       "      <td>0</td>\n",
       "      <td>0</td>\n",
       "      <td>0</td>\n",
       "      <td>0</td>\n",
       "      <td>0</td>\n",
       "      <td>0</td>\n",
       "      <td>0</td>\n",
       "    </tr>\n",
       "  </tbody>\n",
       "</table>\n",
       "<p>5 rows × 36 columns</p>\n",
       "</div>"
      ],
      "text/plain": [
       "   Age Number of sexual partners First sexual intercourse Num of pregnancies  \\\n",
       "0   18                       4.0                     15.0                1.0   \n",
       "1   15                       1.0                     14.0                1.0   \n",
       "2   34                       1.0                        ?                1.0   \n",
       "3   52                       5.0                     16.0                4.0   \n",
       "4   46                       3.0                     21.0                4.0   \n",
       "\n",
       "  Smokes Smokes (years) Smokes (packs/year) Hormonal Contraceptives  \\\n",
       "0    0.0            0.0                 0.0                     0.0   \n",
       "1    0.0            0.0                 0.0                     0.0   \n",
       "2    0.0            0.0                 0.0                     0.0   \n",
       "3    1.0           37.0                37.0                     1.0   \n",
       "4    0.0            0.0                 0.0                     1.0   \n",
       "\n",
       "  Hormonal Contraceptives (years)  IUD  ... STDs: Time since first diagnosis  \\\n",
       "0                             0.0  0.0  ...                                ?   \n",
       "1                             0.0  0.0  ...                                ?   \n",
       "2                             0.0  0.0  ...                                ?   \n",
       "3                             3.0  0.0  ...                                ?   \n",
       "4                            15.0  0.0  ...                                ?   \n",
       "\n",
       "  STDs: Time since last diagnosis Dx:Cancer Dx:CIN Dx:HPV Dx Hinselmann  \\\n",
       "0                               ?         0      0      0  0          0   \n",
       "1                               ?         0      0      0  0          0   \n",
       "2                               ?         0      0      0  0          0   \n",
       "3                               ?         1      0      1  0          0   \n",
       "4                               ?         0      0      0  0          0   \n",
       "\n",
       "  Schiller Citology Biopsy  \n",
       "0        0        0      0  \n",
       "1        0        0      0  \n",
       "2        0        0      0  \n",
       "3        0        0      0  \n",
       "4        0        0      0  \n",
       "\n",
       "[5 rows x 36 columns]"
      ]
     },
     "execution_count": 3,
     "metadata": {},
     "output_type": "execute_result"
    }
   ],
   "source": [
    "#load data\n",
    "data_path=\"kag_risk_factors_cervical_cancer.csv\"\n",
    "df_cc =pd.read_csv(data_path) \n",
    "\n",
    "df_cc.head()"
   ]
  },
  {
   "cell_type": "code",
   "execution_count": 4,
   "metadata": {
    "colab": {
     "base_uri": "https://localhost:8080/"
    },
    "id": "Af76egPO3bjl",
    "outputId": "2ef972bb-e361-4bdd-e67e-f803243e5e1f",
    "slideshow": {
     "slide_type": "skip"
    }
   },
   "outputs": [
    {
     "name": "stdout",
     "output_type": "stream",
     "text": [
      "<class 'pandas.core.frame.DataFrame'>\n",
      "RangeIndex: 858 entries, 0 to 857\n",
      "Data columns (total 36 columns):\n",
      " #   Column                              Non-Null Count  Dtype \n",
      "---  ------                              --------------  ----- \n",
      " 0   Age                                 858 non-null    int64 \n",
      " 1   Number of sexual partners           858 non-null    object\n",
      " 2   First sexual intercourse            858 non-null    object\n",
      " 3   Num of pregnancies                  858 non-null    object\n",
      " 4   Smokes                              858 non-null    object\n",
      " 5   Smokes (years)                      858 non-null    object\n",
      " 6   Smokes (packs/year)                 858 non-null    object\n",
      " 7   Hormonal Contraceptives             858 non-null    object\n",
      " 8   Hormonal Contraceptives (years)     858 non-null    object\n",
      " 9   IUD                                 858 non-null    object\n",
      " 10  IUD (years)                         858 non-null    object\n",
      " 11  STDs                                858 non-null    object\n",
      " 12  STDs (number)                       858 non-null    object\n",
      " 13  STDs:condylomatosis                 858 non-null    object\n",
      " 14  STDs:cervical condylomatosis        858 non-null    object\n",
      " 15  STDs:vaginal condylomatosis         858 non-null    object\n",
      " 16  STDs:vulvo-perineal condylomatosis  858 non-null    object\n",
      " 17  STDs:syphilis                       858 non-null    object\n",
      " 18  STDs:pelvic inflammatory disease    858 non-null    object\n",
      " 19  STDs:genital herpes                 858 non-null    object\n",
      " 20  STDs:molluscum contagiosum          858 non-null    object\n",
      " 21  STDs:AIDS                           858 non-null    object\n",
      " 22  STDs:HIV                            858 non-null    object\n",
      " 23  STDs:Hepatitis B                    858 non-null    object\n",
      " 24  STDs:HPV                            858 non-null    object\n",
      " 25  STDs: Number of diagnosis           858 non-null    int64 \n",
      " 26  STDs: Time since first diagnosis    858 non-null    object\n",
      " 27  STDs: Time since last diagnosis     858 non-null    object\n",
      " 28  Dx:Cancer                           858 non-null    int64 \n",
      " 29  Dx:CIN                              858 non-null    int64 \n",
      " 30  Dx:HPV                              858 non-null    int64 \n",
      " 31  Dx                                  858 non-null    int64 \n",
      " 32  Hinselmann                          858 non-null    int64 \n",
      " 33  Schiller                            858 non-null    int64 \n",
      " 34  Citology                            858 non-null    int64 \n",
      " 35  Biopsy                              858 non-null    int64 \n",
      "dtypes: int64(10), object(26)\n",
      "memory usage: 241.4+ KB\n"
     ]
    }
   ],
   "source": [
    "df_cc.info()"
   ]
  },
  {
   "cell_type": "code",
   "execution_count": 5,
   "metadata": {
    "id": "BuMI3eXSBBiu",
    "slideshow": {
     "slide_type": "skip"
    }
   },
   "outputs": [],
   "source": [
    "#replace all ? with NaN\n",
    "df_cc = df_cc.replace('?', np.nan);"
   ]
  },
  {
   "cell_type": "code",
   "execution_count": 6,
   "metadata": {
    "colab": {
     "base_uri": "https://localhost:8080/",
     "height": 1000
    },
    "id": "5STKTO1CIb5Q",
    "outputId": "73536f29-ab6a-4084-ba7e-ce5f97352153",
    "slideshow": {
     "slide_type": "skip"
    }
   },
   "outputs": [
    {
     "data": {
      "text/html": [
       "<div>\n",
       "<style scoped>\n",
       "    .dataframe tbody tr th:only-of-type {\n",
       "        vertical-align: middle;\n",
       "    }\n",
       "\n",
       "    .dataframe tbody tr th {\n",
       "        vertical-align: top;\n",
       "    }\n",
       "\n",
       "    .dataframe thead th {\n",
       "        text-align: right;\n",
       "    }\n",
       "</style>\n",
       "<table border=\"1\" class=\"dataframe\">\n",
       "  <thead>\n",
       "    <tr style=\"text-align: right;\">\n",
       "      <th></th>\n",
       "      <th>Missing</th>\n",
       "    </tr>\n",
       "  </thead>\n",
       "  <tbody>\n",
       "    <tr>\n",
       "      <th>STDs: Time since last diagnosis</th>\n",
       "      <td>787</td>\n",
       "    </tr>\n",
       "    <tr>\n",
       "      <th>STDs: Time since first diagnosis</th>\n",
       "      <td>787</td>\n",
       "    </tr>\n",
       "    <tr>\n",
       "      <th>IUD</th>\n",
       "      <td>117</td>\n",
       "    </tr>\n",
       "    <tr>\n",
       "      <th>IUD (years)</th>\n",
       "      <td>117</td>\n",
       "    </tr>\n",
       "    <tr>\n",
       "      <th>Hormonal Contraceptives</th>\n",
       "      <td>108</td>\n",
       "    </tr>\n",
       "    <tr>\n",
       "      <th>Hormonal Contraceptives (years)</th>\n",
       "      <td>108</td>\n",
       "    </tr>\n",
       "    <tr>\n",
       "      <th>STDs:pelvic inflammatory disease</th>\n",
       "      <td>105</td>\n",
       "    </tr>\n",
       "    <tr>\n",
       "      <th>STDs:vulvo-perineal condylomatosis</th>\n",
       "      <td>105</td>\n",
       "    </tr>\n",
       "    <tr>\n",
       "      <th>STDs:HPV</th>\n",
       "      <td>105</td>\n",
       "    </tr>\n",
       "    <tr>\n",
       "      <th>STDs:Hepatitis B</th>\n",
       "      <td>105</td>\n",
       "    </tr>\n",
       "    <tr>\n",
       "      <th>STDs:HIV</th>\n",
       "      <td>105</td>\n",
       "    </tr>\n",
       "    <tr>\n",
       "      <th>STDs:AIDS</th>\n",
       "      <td>105</td>\n",
       "    </tr>\n",
       "    <tr>\n",
       "      <th>STDs:molluscum contagiosum</th>\n",
       "      <td>105</td>\n",
       "    </tr>\n",
       "    <tr>\n",
       "      <th>STDs:genital herpes</th>\n",
       "      <td>105</td>\n",
       "    </tr>\n",
       "    <tr>\n",
       "      <th>STDs:syphilis</th>\n",
       "      <td>105</td>\n",
       "    </tr>\n",
       "    <tr>\n",
       "      <th>STDs:vaginal condylomatosis</th>\n",
       "      <td>105</td>\n",
       "    </tr>\n",
       "    <tr>\n",
       "      <th>STDs:cervical condylomatosis</th>\n",
       "      <td>105</td>\n",
       "    </tr>\n",
       "    <tr>\n",
       "      <th>STDs:condylomatosis</th>\n",
       "      <td>105</td>\n",
       "    </tr>\n",
       "    <tr>\n",
       "      <th>STDs (number)</th>\n",
       "      <td>105</td>\n",
       "    </tr>\n",
       "    <tr>\n",
       "      <th>STDs</th>\n",
       "      <td>105</td>\n",
       "    </tr>\n",
       "    <tr>\n",
       "      <th>Num of pregnancies</th>\n",
       "      <td>56</td>\n",
       "    </tr>\n",
       "    <tr>\n",
       "      <th>Number of sexual partners</th>\n",
       "      <td>26</td>\n",
       "    </tr>\n",
       "    <tr>\n",
       "      <th>Smokes (packs/year)</th>\n",
       "      <td>13</td>\n",
       "    </tr>\n",
       "    <tr>\n",
       "      <th>Smokes (years)</th>\n",
       "      <td>13</td>\n",
       "    </tr>\n",
       "    <tr>\n",
       "      <th>Smokes</th>\n",
       "      <td>13</td>\n",
       "    </tr>\n",
       "    <tr>\n",
       "      <th>First sexual intercourse</th>\n",
       "      <td>7</td>\n",
       "    </tr>\n",
       "    <tr>\n",
       "      <th>Dx</th>\n",
       "      <td>0</td>\n",
       "    </tr>\n",
       "    <tr>\n",
       "      <th>Citology</th>\n",
       "      <td>0</td>\n",
       "    </tr>\n",
       "    <tr>\n",
       "      <th>Schiller</th>\n",
       "      <td>0</td>\n",
       "    </tr>\n",
       "    <tr>\n",
       "      <th>Hinselmann</th>\n",
       "      <td>0</td>\n",
       "    </tr>\n",
       "    <tr>\n",
       "      <th>Age</th>\n",
       "      <td>0</td>\n",
       "    </tr>\n",
       "    <tr>\n",
       "      <th>Dx:HPV</th>\n",
       "      <td>0</td>\n",
       "    </tr>\n",
       "    <tr>\n",
       "      <th>Dx:CIN</th>\n",
       "      <td>0</td>\n",
       "    </tr>\n",
       "    <tr>\n",
       "      <th>Dx:Cancer</th>\n",
       "      <td>0</td>\n",
       "    </tr>\n",
       "    <tr>\n",
       "      <th>STDs: Number of diagnosis</th>\n",
       "      <td>0</td>\n",
       "    </tr>\n",
       "    <tr>\n",
       "      <th>Biopsy</th>\n",
       "      <td>0</td>\n",
       "    </tr>\n",
       "  </tbody>\n",
       "</table>\n",
       "</div>"
      ],
      "text/plain": [
       "                                    Missing\n",
       "STDs: Time since last diagnosis         787\n",
       "STDs: Time since first diagnosis        787\n",
       "IUD                                     117\n",
       "IUD (years)                             117\n",
       "Hormonal Contraceptives                 108\n",
       "Hormonal Contraceptives (years)         108\n",
       "STDs:pelvic inflammatory disease        105\n",
       "STDs:vulvo-perineal condylomatosis      105\n",
       "STDs:HPV                                105\n",
       "STDs:Hepatitis B                        105\n",
       "STDs:HIV                                105\n",
       "STDs:AIDS                               105\n",
       "STDs:molluscum contagiosum              105\n",
       "STDs:genital herpes                     105\n",
       "STDs:syphilis                           105\n",
       "STDs:vaginal condylomatosis             105\n",
       "STDs:cervical condylomatosis            105\n",
       "STDs:condylomatosis                     105\n",
       "STDs (number)                           105\n",
       "STDs                                    105\n",
       "Num of pregnancies                       56\n",
       "Number of sexual partners                26\n",
       "Smokes (packs/year)                      13\n",
       "Smokes (years)                           13\n",
       "Smokes                                   13\n",
       "First sexual intercourse                  7\n",
       "Dx                                        0\n",
       "Citology                                  0\n",
       "Schiller                                  0\n",
       "Hinselmann                                0\n",
       "Age                                       0\n",
       "Dx:HPV                                    0\n",
       "Dx:CIN                                    0\n",
       "Dx:Cancer                                 0\n",
       "STDs: Number of diagnosis                 0\n",
       "Biopsy                                    0"
      ]
     },
     "metadata": {},
     "output_type": "display_data"
    }
   ],
   "source": [
    "#explore missing data\n",
    "missing = pd.DataFrame({'Missing': df_cc.isnull().sum()})\n",
    "display(missing.sort_values(by='Missing', ascending=False))"
   ]
  },
  {
   "cell_type": "code",
   "execution_count": 7,
   "metadata": {
    "id": "OwRLuaqnmkq3",
    "slideshow": {
     "slide_type": "skip"
    }
   },
   "outputs": [],
   "source": [
    "#rename columns for ease of use and with better descriptions\n",
    "df_cc = df_cc.rename(columns={'Smokes': 'smokes', 'Smokes (years)': 'smokes_years', 'Age': 'age', 'Hormonal Contraceptives': 'hormonal_contraceptives', 'Hormonal Contraceptives (years)': 'hormonal_contraceptives_years', 'Smokes (packs/year)': 'smokes_packs_per_year', 'Num of pregnancies': 'num_of_pregnancies'})"
   ]
  },
  {
   "cell_type": "code",
   "execution_count": 8,
   "metadata": {
    "slideshow": {
     "slide_type": "skip"
    }
   },
   "outputs": [
    {
     "data": {
      "text/plain": [
       "Index(['age', 'num_of_pregnancies', 'smokes', 'smokes_years',\n",
       "       'smokes_packs_per_year', 'hormonal_contraceptives',\n",
       "       'hormonal_contraceptives_years', 'Dx:Cancer', 'Dx:HPV'],\n",
       "      dtype='object')"
      ]
     },
     "execution_count": 8,
     "metadata": {},
     "output_type": "execute_result"
    }
   ],
   "source": [
    "#drop columns that I will not be using\n",
    "df_cc = df_cc.drop(['Number of sexual partners', 'First sexual intercourse',\n",
    "        'IUD',\n",
    "       'IUD (years)', 'STDs', 'STDs (number)', 'STDs:condylomatosis',\n",
    "       'STDs:cervical condylomatosis', 'STDs:vaginal condylomatosis',\n",
    "       'STDs:vulvo-perineal condylomatosis', 'STDs:syphilis',\n",
    "       'STDs:pelvic inflammatory disease', 'STDs:genital herpes',\n",
    "       'STDs:molluscum contagiosum', 'STDs:AIDS', 'STDs:HIV',\n",
    "       'STDs:Hepatitis B', 'STDs:HPV', 'STDs: Number of diagnosis',\n",
    "       'STDs: Time since first diagnosis', 'STDs: Time since last diagnosis', 'Dx:CIN', 'Dx', 'Hinselmann', 'Schiller',\n",
    "       'Citology', 'Biopsy' ], axis=1)\n",
    "#test\n",
    "df_cc.columns"
   ]
  },
  {
   "cell_type": "code",
   "execution_count": 9,
   "metadata": {
    "id": "vNngkyOImL4t",
    "slideshow": {
     "slide_type": "skip"
    }
   },
   "outputs": [],
   "source": [
    "#reset datatypes to numeric instead of strings\n",
    "df_cc.smokes_years = df_cc.smokes_years.apply(pd.to_numeric)\n",
    "df_cc.smokes = df_cc.smokes.apply(pd.to_numeric)\n",
    "df_cc.smokes_packs_per_year = df_cc.smokes_packs_per_year.apply(pd.to_numeric)"
   ]
  },
  {
   "cell_type": "code",
   "execution_count": 10,
   "metadata": {
    "colab": {
     "base_uri": "https://localhost:8080/",
     "height": 351
    },
    "id": "X3pVateJ5Hkz",
    "outputId": "6da2e3e6-10c1-4fc4-8298-6ecd49f127de",
    "slideshow": {
     "slide_type": "skip"
    }
   },
   "outputs": [
    {
     "data": {
      "text/html": [
       "<div>\n",
       "<style scoped>\n",
       "    .dataframe tbody tr th:only-of-type {\n",
       "        vertical-align: middle;\n",
       "    }\n",
       "\n",
       "    .dataframe tbody tr th {\n",
       "        vertical-align: top;\n",
       "    }\n",
       "\n",
       "    .dataframe thead th {\n",
       "        text-align: right;\n",
       "    }\n",
       "</style>\n",
       "<table border=\"1\" class=\"dataframe\">\n",
       "  <thead>\n",
       "    <tr style=\"text-align: right;\">\n",
       "      <th></th>\n",
       "      <th>age</th>\n",
       "      <th>smokes</th>\n",
       "      <th>smokes_years</th>\n",
       "      <th>smokes_packs_per_year</th>\n",
       "      <th>Dx:Cancer</th>\n",
       "      <th>Dx:HPV</th>\n",
       "    </tr>\n",
       "  </thead>\n",
       "  <tbody>\n",
       "    <tr>\n",
       "      <th>count</th>\n",
       "      <td>858.000000</td>\n",
       "      <td>845.000000</td>\n",
       "      <td>845.000000</td>\n",
       "      <td>845.000000</td>\n",
       "      <td>858.000000</td>\n",
       "      <td>858.000000</td>\n",
       "    </tr>\n",
       "    <tr>\n",
       "      <th>mean</th>\n",
       "      <td>26.820513</td>\n",
       "      <td>0.145562</td>\n",
       "      <td>1.219721</td>\n",
       "      <td>0.453144</td>\n",
       "      <td>0.020979</td>\n",
       "      <td>0.020979</td>\n",
       "    </tr>\n",
       "    <tr>\n",
       "      <th>std</th>\n",
       "      <td>8.497948</td>\n",
       "      <td>0.352876</td>\n",
       "      <td>4.089017</td>\n",
       "      <td>2.226610</td>\n",
       "      <td>0.143398</td>\n",
       "      <td>0.143398</td>\n",
       "    </tr>\n",
       "    <tr>\n",
       "      <th>min</th>\n",
       "      <td>13.000000</td>\n",
       "      <td>0.000000</td>\n",
       "      <td>0.000000</td>\n",
       "      <td>0.000000</td>\n",
       "      <td>0.000000</td>\n",
       "      <td>0.000000</td>\n",
       "    </tr>\n",
       "    <tr>\n",
       "      <th>25%</th>\n",
       "      <td>20.000000</td>\n",
       "      <td>0.000000</td>\n",
       "      <td>0.000000</td>\n",
       "      <td>0.000000</td>\n",
       "      <td>0.000000</td>\n",
       "      <td>0.000000</td>\n",
       "    </tr>\n",
       "    <tr>\n",
       "      <th>50%</th>\n",
       "      <td>25.000000</td>\n",
       "      <td>0.000000</td>\n",
       "      <td>0.000000</td>\n",
       "      <td>0.000000</td>\n",
       "      <td>0.000000</td>\n",
       "      <td>0.000000</td>\n",
       "    </tr>\n",
       "    <tr>\n",
       "      <th>75%</th>\n",
       "      <td>32.000000</td>\n",
       "      <td>0.000000</td>\n",
       "      <td>0.000000</td>\n",
       "      <td>0.000000</td>\n",
       "      <td>0.000000</td>\n",
       "      <td>0.000000</td>\n",
       "    </tr>\n",
       "    <tr>\n",
       "      <th>max</th>\n",
       "      <td>84.000000</td>\n",
       "      <td>1.000000</td>\n",
       "      <td>37.000000</td>\n",
       "      <td>37.000000</td>\n",
       "      <td>1.000000</td>\n",
       "      <td>1.000000</td>\n",
       "    </tr>\n",
       "  </tbody>\n",
       "</table>\n",
       "</div>"
      ],
      "text/plain": [
       "              age      smokes  smokes_years  smokes_packs_per_year  \\\n",
       "count  858.000000  845.000000    845.000000             845.000000   \n",
       "mean    26.820513    0.145562      1.219721               0.453144   \n",
       "std      8.497948    0.352876      4.089017               2.226610   \n",
       "min     13.000000    0.000000      0.000000               0.000000   \n",
       "25%     20.000000    0.000000      0.000000               0.000000   \n",
       "50%     25.000000    0.000000      0.000000               0.000000   \n",
       "75%     32.000000    0.000000      0.000000               0.000000   \n",
       "max     84.000000    1.000000     37.000000              37.000000   \n",
       "\n",
       "        Dx:Cancer      Dx:HPV  \n",
       "count  858.000000  858.000000  \n",
       "mean     0.020979    0.020979  \n",
       "std      0.143398    0.143398  \n",
       "min      0.000000    0.000000  \n",
       "25%      0.000000    0.000000  \n",
       "50%      0.000000    0.000000  \n",
       "75%      0.000000    0.000000  \n",
       "max      1.000000    1.000000  "
      ]
     },
     "execution_count": 10,
     "metadata": {},
     "output_type": "execute_result"
    }
   ],
   "source": [
    "#test\n",
    "df_cc.describe()"
   ]
  },
  {
   "cell_type": "markdown",
   "metadata": {
    "slideshow": {
     "slide_type": "slide"
    }
   },
   "source": [
    "## Patients with Cervical Cancer Diagnosis\n",
    "Of the 858 women included in this dataset, there are 18 women that have a positive diagnosis (yes) for cervical cancer and 840 that have a negative diagnosis (no).  Considering there is such a small number of women represented with a positive cervical cancer diagnosis, I would expect to not always see the significant differences mentioned in the research information in regards to cervical cancer diagnosis and the observed risk factors.  A larger dataset of patients would be recommended."
   ]
  },
  {
   "cell_type": "code",
   "execution_count": 11,
   "metadata": {
    "colab": {
     "base_uri": "https://localhost:8080/",
     "height": 276
    },
    "id": "x7wD5H4m65XV",
    "outputId": "f7f3d490-357e-4920-f931-5d9ea5463a4e",
    "slideshow": {
     "slide_type": "subslide"
    }
   },
   "outputs": [
    {
     "data": {
      "image/png": "[encoded data removed]",
      "text/plain": [
       "<Figure size 720x360 with 1 Axes>"
      ]
     },
     "metadata": {
      "needs_background": "light"
     },
     "output_type": "display_data"
    }
   ],
   "source": [
    "plt.figure(figsize=[10, 5])\n",
    "df_cc['Dx:Cancer'].value_counts().plot(kind='bar');\n",
    "plt.xticks(np.arange(2), ['No', 'Yes'], rotation=0) \n",
    "plt.ylabel('Patient Count')\n",
    "plt.xlabel('Cancer Diagnosis');\n",
    "plt.title('Patient Counts and Cancer Diagnosis');\n"
   ]
  },
  {
   "cell_type": "markdown",
   "metadata": {
    "slideshow": {
     "slide_type": "slide"
    }
   },
   "source": [
    "## Distribution of Ages\n",
    "\n",
    "The ages of the women in my dataset range from 13 years old to 84 years old.  The majority of the women in the dataset are 20-30 years old."
   ]
  },
  {
   "cell_type": "code",
   "execution_count": 12,
   "metadata": {
    "colab": {
     "base_uri": "https://localhost:8080/",
     "height": 279
    },
    "id": "ERpweIND7Yw0",
    "outputId": "43850cb2-defa-499d-c1a9-edf8957106ac",
    "slideshow": {
     "slide_type": "subslide"
    }
   },
   "outputs": [
    {
     "data": {
      "image/png": "[encoded data removed]",
      "text/plain": [
       "<Figure size 720x360 with 1 Axes>"
      ]
     },
     "metadata": {
      "needs_background": "light"
     },
     "output_type": "display_data"
    }
   ],
   "source": [
    "plt.figure(figsize=[10, 5])\n",
    "bins = np.arange(13, 84 + 7, 7)\n",
    "plt.hist(data= df_cc, x='age', bins = bins);\n",
    "plt.ylabel('Count')\n",
    "plt.xlabel('Age (years)');\n",
    "plt.title('Patient Age Distribution');"
   ]
  },
  {
   "cell_type": "code",
   "execution_count": 13,
   "metadata": {
    "colab": {
     "base_uri": "https://localhost:8080/"
    },
    "id": "7CHaH4OmDklF",
    "outputId": "d5b7f7cb-de8c-4ce6-fe65-3da25596bce8",
    "slideshow": {
     "slide_type": "skip"
    }
   },
   "outputs": [
    {
     "data": {
      "text/plain": [
       "count    845.000000\n",
       "mean       1.219721\n",
       "std        4.089017\n",
       "min        0.000000\n",
       "25%        0.000000\n",
       "50%        0.000000\n",
       "75%        0.000000\n",
       "max       37.000000\n",
       "Name: smokes_years, dtype: float64"
      ]
     },
     "execution_count": 13,
     "metadata": {},
     "output_type": "execute_result"
    }
   ],
   "source": [
    "#show max and min values for bin reference of smoked years\n",
    "df_cc['smokes_years'] = df_cc['smokes_years'].apply(pd.to_numeric)\n",
    "df_cc['smokes_years'].describe()"
   ]
  },
  {
   "cell_type": "markdown",
   "metadata": {
    "slideshow": {
     "slide_type": "slide"
    }
   },
   "source": [
    "## Distribution of Women Who Are Smokers and How Long They Have Smoked\n",
    "\n",
    "The majority of women in my dataset do not smoke.  Those that do smoke the majority have smoked for less than 5 years."
   ]
  },
  {
   "cell_type": "code",
   "execution_count": 14,
   "metadata": {
    "colab": {
     "base_uri": "https://localhost:8080/",
     "height": 298
    },
    "id": "gPn7MoE--WCr",
    "outputId": "8dfb8b08-479d-435a-b50c-f60c209570d3",
    "slideshow": {
     "slide_type": "subslide"
    }
   },
   "outputs": [
    {
     "data": {
      "image/png": "[encoded data removed]",
      "text/plain": [
       "<Figure size 1440x360 with 2 Axes>"
      ]
     },
     "metadata": {
      "needs_background": "light"
     },
     "output_type": "display_data"
    }
   ],
   "source": [
    "#set figure subplots size\n",
    "fig, ax = plt.subplots(2,2,figsize=(20,5))\n",
    "#plot count of smokers vs non smokers\n",
    "plt.subplot(1,2,1)\n",
    "df_cc['smokes'].value_counts().plot(kind='bar');\n",
    "plt.ylabel('Count')\n",
    "plt.xlabel('Smokes');\n",
    "plt.xticks(np.arange(2), ['No', 'Yes'], rotation=0) \n",
    "plt.title('Distribution of Women Who Are Smokers');\n",
    "\n",
    "#plot number of years smokers have smoked and counts\n",
    "plt.subplot(1,2,2)\n",
    "smokers = df_cc.query('smokes_years > 0.0')\n",
    "bins = np.arange(0,smokers.smokes_years.max() + 5, 5 )\n",
    "plt.hist(data = smokers, x='smokes_years', bins=bins)\n",
    "plt.ylabel('Count')\n",
    "plt.xlabel('Smoked (years)');\n",
    "plt.title('Years That Women Have Smoked');\n"
   ]
  },
  {
   "cell_type": "code",
   "execution_count": 15,
   "metadata": {
    "colab": {
     "base_uri": "https://localhost:8080/"
    },
    "id": "C2bxormV-53O",
    "outputId": "3eb7702e-e909-4bac-dc16-5f8db29a9dce",
    "slideshow": {
     "slide_type": "skip"
    }
   },
   "outputs": [
    {
     "data": {
      "text/plain": [
       "(array(['0.0', '1.0', nan], dtype=object),\n",
       " array(['0.0', '3.0', '15.0', '2.0', '8.0', '10.0', '5.0', '0.25', '7.0',\n",
       "        '22.0', '19.0', '0.5', '1.0', '0.58', '9.0', '13.0', '11.0', '4.0',\n",
       "        '12.0', '16.0', '0.33', nan, '0.16', '14.0', '0.08', '2.282200521',\n",
       "        '0.66', '6.0', '1.5', '0.42', '0.67', '0.75', '2.5', '4.5', '6.5',\n",
       "        '0.17', '20.0', '3.5', '0.41', '30.0', '17.0'], dtype=object))"
      ]
     },
     "execution_count": 15,
     "metadata": {},
     "output_type": "execute_result"
    }
   ],
   "source": [
    "df_cc['hormonal_contraceptives'].unique(), df_cc['hormonal_contraceptives_years'].unique()"
   ]
  },
  {
   "cell_type": "code",
   "execution_count": 16,
   "metadata": {
    "id": "wWptBHqrT3bX",
    "slideshow": {
     "slide_type": "skip"
    }
   },
   "outputs": [
    {
     "data": {
      "text/plain": [
       "dtype('float64')"
      ]
     },
     "execution_count": 16,
     "metadata": {},
     "output_type": "execute_result"
    }
   ],
   "source": [
    "#change datatype to numeric from string\n",
    "df_cc['hormonal_contraceptives_years'] = df_cc['hormonal_contraceptives_years'].apply(pd.to_numeric)\n",
    "#test\n",
    "df_cc['hormonal_contraceptives_years'].dtype"
   ]
  },
  {
   "cell_type": "markdown",
   "metadata": {
    "slideshow": {
     "slide_type": "slide"
    }
   },
   "source": [
    "## Women and Hormonal Contraceptive Use\n",
    "\n",
    "In this dataset, approximately 2/3 of the women in the datset are using hormonal contraceptives.  A majority of the women in this dataset have been on hormonal contraceptives for less than 5 years."
   ]
  },
  {
   "cell_type": "code",
   "execution_count": 17,
   "metadata": {
    "colab": {
     "base_uri": "https://localhost:8080/",
     "height": 299
    },
    "id": "HS-bj870RLet",
    "outputId": "2ad17a28-7698-46f5-f92a-d76b94fd5166",
    "slideshow": {
     "slide_type": "subslide"
    }
   },
   "outputs": [
    {
     "data": {
      "image/png": "[encoded data removed]",
      "text/plain": [
       "<Figure size 1440x360 with 2 Axes>"
      ]
     },
     "metadata": {
      "needs_background": "light"
     },
     "output_type": "display_data"
    }
   ],
   "source": [
    "#hormonal contraceptives\n",
    "fig, ax = plt.subplots(2,2,figsize=(20,5))\n",
    "plt.subplot(1,2,1)\n",
    "df_cc['hormonal_contraceptives'].value_counts().plot(kind='bar');\n",
    "plt.xticks(np.arange(2), ['No', 'Yes'], rotation=0) \n",
    "plt.ylabel('Count')\n",
    "plt.xlabel('Hormonal Contraceptives');\n",
    "plt.title('Women and Hormonal Contraceptive Use');\n",
    "#years taking hormonal contraceptives\n",
    "plt.subplot(1,2,2)\n",
    "hc_years = df_cc.query('hormonal_contraceptives_years > 0.0')\n",
    "bins = np.arange(0,hc_years.hormonal_contraceptives_years.max() + .5, .5 )\n",
    "plt.hist(data = hc_years, x='hormonal_contraceptives_years', bins=bins)\n",
    "plt.ylabel('Count')\n",
    "plt.xlabel('Hormonal Contraceptive Use (years)');\n",
    "plt.title('Duration of Hormonal Contraceptive Use');"
   ]
  },
  {
   "cell_type": "code",
   "execution_count": 18,
   "metadata": {
    "id": "mN0EEbmoXsy4",
    "slideshow": {
     "slide_type": "skip"
    }
   },
   "outputs": [],
   "source": [
    "#change Dx:Cancer to dictionary so a categorical class can be created\n",
    "cancer_dict = {0:'no', 1: 'yes'}\n",
    "df_cc['Dx:Cancer'] = df_cc['Dx:Cancer'].map(cancer_dict)\n"
   ]
  },
  {
   "cell_type": "markdown",
   "metadata": {
    "id": "YnQ5ZKqMY9re",
    "slideshow": {
     "slide_type": "skip"
    }
   },
   "source": [
    "## Bivariant Plots"
   ]
  },
  {
   "cell_type": "code",
   "execution_count": 19,
   "metadata": {
    "id": "6F_WSWRCZGqU",
    "slideshow": {
     "slide_type": "skip"
    }
   },
   "outputs": [],
   "source": [
    "#change Dx:Cancer to 'yes' or 'no' diagnosis \n",
    "\n",
    "diagnosis_classes = ['no','yes']\n",
    "\n",
    "dx_classes = pd.api.types.CategoricalDtype(ordered=False, categories=diagnosis_classes)\n",
    "\n",
    "df_cc['Dx:Cancer'] = df_cc['Dx:Cancer'].astype(dx_classes)\n"
   ]
  },
  {
   "cell_type": "code",
   "execution_count": 20,
   "metadata": {
    "colab": {
     "base_uri": "https://localhost:8080/"
    },
    "id": "Htgr9l9cKGE-",
    "outputId": "9ecc14a6-2246-4e68-9f0c-4d177c9cbee0",
    "slideshow": {
     "slide_type": "skip"
    }
   },
   "outputs": [
    {
     "data": {
      "text/plain": [
       "['no', 'yes']\n",
       "Categories (2, object): ['no', 'yes']"
      ]
     },
     "execution_count": 20,
     "metadata": {},
     "output_type": "execute_result"
    }
   ],
   "source": [
    "#test\n",
    "df_cc['Dx:Cancer'].unique()"
   ]
  },
  {
   "cell_type": "code",
   "execution_count": 21,
   "metadata": {
    "colab": {
     "base_uri": "https://localhost:8080/"
    },
    "id": "1Dm-LHdzbAdI",
    "outputId": "16b47f38-ad01-4674-ca2a-8b6a7dee872d",
    "slideshow": {
     "slide_type": "skip"
    }
   },
   "outputs": [
    {
     "data": {
      "text/plain": [
       "dtype('int64')"
      ]
     },
     "execution_count": 21,
     "metadata": {},
     "output_type": "execute_result"
    }
   ],
   "source": [
    "#change age dtype to numeric\n",
    "df_cc['age'] = df_cc['age'].apply(pd.to_numeric)\n",
    "df_cc['age'].unique()\n",
    "#test\n",
    "df_cc.age.dtypes"
   ]
  },
  {
   "cell_type": "markdown",
   "metadata": {
    "slideshow": {
     "slide_type": "slide"
    }
   },
   "source": [
    "## Age vs. Cancer Diagnosis\n",
    "\n",
    "The majority of positive cervical cancer diagnosises happen between ages 20-40 with a median age of approx. 33 years old. There are no positive cervical cancer diagnosies for ages above ~63 years old for this dataset."
   ]
  },
  {
   "cell_type": "code",
   "execution_count": 22,
   "metadata": {
    "colab": {
     "base_uri": "https://localhost:8080/",
     "height": 279
    },
    "id": "NzlVDjL8ZZyM",
    "outputId": "9ef393b3-be80-46e6-a431-35db435cb8fb",
    "slideshow": {
     "slide_type": "subslide"
    }
   },
   "outputs": [
    {
     "data": {
      "image/png": "[encoded data removed]",
      "text/plain": [
       "<Figure size 720x360 with 1 Axes>"
      ]
     },
     "metadata": {
      "needs_background": "light"
     },
     "output_type": "display_data"
    }
   ],
   "source": [
    "#violinplot of cancer diagnosis and age\n",
    "plt.figure(figsize=[10, 5])\n",
    "base_color = sb.color_palette()[0]\n",
    "sb.violinplot(x='Dx:Cancer', y='age', data = df_cc, color=base_color);\n",
    "plt.ylabel('Age (years)')\n",
    "plt.xlabel('Cancer Diagnosis');\n",
    "plt.title('Distribution of Age and Cancer Diagnosis');"
   ]
  },
  {
   "cell_type": "markdown",
   "metadata": {
    "slideshow": {
     "slide_type": "slide"
    }
   },
   "source": [
    "## Hormonal Contraceptive Use and Cancer\n",
    "\n",
    "Women that had a positive or 'yes' cervical cancer diagnosis had been on hormonal contraceptives, on average, longer than those that have a 'no' diagnosis. The majority of women with a 'yes' cancer diagnosis have used hormonal contraceptives between 2-8 years.  There are many outliers in the negative cervical cancer diagnosis column in terms of higher number of years on hormonal contraceptives.  This suggests that there is more to the story than just length of time on hormonal contraceptives. "
   ]
  },
  {
   "cell_type": "code",
   "execution_count": 23,
   "metadata": {
    "colab": {
     "base_uri": "https://localhost:8080/",
     "height": 308
    },
    "id": "y5eu4suka8X4",
    "outputId": "2f2299aa-f147-4369-f3f4-014f44ee332c",
    "slideshow": {
     "slide_type": "subslide"
    }
   },
   "outputs": [
    {
     "data": {
      "image/png": "[encoded data removed]",
      "text/plain": [
       "<Figure size 720x360 with 1 Axes>"
      ]
     },
     "metadata": {
      "needs_background": "light"
     },
     "output_type": "display_data"
    }
   ],
   "source": [
    "#hormonal contraceptive years and cervical cancer diagnosis\n",
    "plt.figure(figsize=[10,5])\n",
    "base_color = sb.color_palette()[0]\n",
    "contra_years = df_cc.query('hormonal_contraceptives_years > 0.0') #get only those that are on hormonal contraceptives\n",
    "sb.boxplot(x='Dx:Cancer', y='hormonal_contraceptives_years', data = contra_years, color=base_color);\n",
    "plt.ylabel('Use of Hormonal Contraceptives (years)')\n",
    "plt.xlabel('Cancer Diagnosis');\n",
    "plt.title('Use of Hormonal Contraceptives and Cancer');"
   ]
  },
  {
   "cell_type": "markdown",
   "metadata": {
    "id": "6JJP2EQZlI1q",
    "slideshow": {
     "slide_type": "skip"
    }
   },
   "source": [
    "I can see on the boxplot on the right that those patients that had a positive or 'yes' cervical cancer diagnosis had been on hormonal contraceptives, on average, longer than those that have a 'no' diagnosis. It also shows that the 'yes' diagnosis is related to those patients on hormonal contraceptives for 0-8 years.  There are more outliers in the negative cervical cancer diagnosis column in terms of years on oral contraceptives.  This suggests that there is more to the story than just length of time on hormonal contraceptives.  "
   ]
  },
  {
   "cell_type": "markdown",
   "metadata": {
    "slideshow": {
     "slide_type": "slide"
    }
   },
   "source": [
    "## Smoking and Cancer Diagnosis\n",
    "\n",
    "Further exploration shows that there were only two people in the dataset that were smokers and had cervical cancer. It would be hard to say if there is a relationship between smoking and cervical cancer based on this dataset. As I investigated the information on the two individuals that had cancer, I could see that there was a lot of variation in their information. For example, the amount of packs they smoked in a year, age, number of pregnancies, etc. did not show a relation to each other. It is interesting to see that a large number of the women in this dataset are smokers and only two have cervical cancer. This is counterintuitive to what I was expecting to find. I feel that this dataset is too small for this particular questions and I feel that in order to get a better idea of if there is a relationship between smoking and cervical cancer I would need to look at a larger data set.  Given this information I would consider this a dead end for investigation of the smoking risk factor with the given data.\n",
    "\n"
   ]
  },
  {
   "cell_type": "code",
   "execution_count": 24,
   "metadata": {
    "colab": {
     "base_uri": "https://localhost:8080/",
     "height": 131
    },
    "id": "6bvZAyaPlT-N",
    "outputId": "96fb3327-a58a-47d4-98d3-82debb975bbb",
    "slideshow": {
     "slide_type": "subslide"
    }
   },
   "outputs": [
    {
     "data": {
      "text/html": [
       "<div>\n",
       "<style scoped>\n",
       "    .dataframe tbody tr th:only-of-type {\n",
       "        vertical-align: middle;\n",
       "    }\n",
       "\n",
       "    .dataframe tbody tr th {\n",
       "        vertical-align: top;\n",
       "    }\n",
       "\n",
       "    .dataframe thead th {\n",
       "        text-align: right;\n",
       "    }\n",
       "</style>\n",
       "<table border=\"1\" class=\"dataframe\">\n",
       "  <thead>\n",
       "    <tr style=\"text-align: right;\">\n",
       "      <th></th>\n",
       "      <th>age</th>\n",
       "      <th>num_of_pregnancies</th>\n",
       "      <th>smokes</th>\n",
       "      <th>smokes_years</th>\n",
       "      <th>smokes_packs_per_year</th>\n",
       "      <th>hormonal_contraceptives</th>\n",
       "      <th>hormonal_contraceptives_years</th>\n",
       "      <th>Dx:Cancer</th>\n",
       "      <th>Dx:HPV</th>\n",
       "    </tr>\n",
       "  </thead>\n",
       "  <tbody>\n",
       "    <tr>\n",
       "      <th>3</th>\n",
       "      <td>52</td>\n",
       "      <td>4.0</td>\n",
       "      <td>1.0</td>\n",
       "      <td>37.0</td>\n",
       "      <td>37.00</td>\n",
       "      <td>1.0</td>\n",
       "      <td>3.0</td>\n",
       "      <td>yes</td>\n",
       "      <td>1</td>\n",
       "    </tr>\n",
       "    <tr>\n",
       "      <th>849</th>\n",
       "      <td>32</td>\n",
       "      <td>1.0</td>\n",
       "      <td>1.0</td>\n",
       "      <td>11.0</td>\n",
       "      <td>0.16</td>\n",
       "      <td>1.0</td>\n",
       "      <td>6.0</td>\n",
       "      <td>yes</td>\n",
       "      <td>1</td>\n",
       "    </tr>\n",
       "  </tbody>\n",
       "</table>\n",
       "</div>"
      ],
      "text/plain": [
       "     age num_of_pregnancies  smokes  smokes_years  smokes_packs_per_year  \\\n",
       "3     52                4.0     1.0          37.0                  37.00   \n",
       "849   32                1.0     1.0          11.0                   0.16   \n",
       "\n",
       "    hormonal_contraceptives  hormonal_contraceptives_years Dx:Cancer  Dx:HPV  \n",
       "3                       1.0                            3.0       yes       1  \n",
       "849                     1.0                            6.0       yes       1  "
      ]
     },
     "execution_count": 24,
     "metadata": {},
     "output_type": "execute_result"
    }
   ],
   "source": [
    "#find how many smokers have cancer\n",
    "smoker = df_cc[df_cc['smokes' ] == 1.0]\n",
    "smoker\n",
    "smoke_cancer = smoker[smoker['Dx:Cancer'] == 'yes']\n",
    "smoke_cancer"
   ]
  },
  {
   "cell_type": "code",
   "execution_count": 25,
   "metadata": {
    "colab": {
     "base_uri": "https://localhost:8080/",
     "height": 383
    },
    "id": "RsgQbD9Rq7ct",
    "outputId": "cc0dcaee-0f58-4fba-83af-903b372d8035",
    "slideshow": {
     "slide_type": "subslide"
    }
   },
   "outputs": [
    {
     "data": {
      "image/png": "[encoded data removed]",
      "text/plain": [
       "<Figure size 360x360 with 1 Axes>"
      ]
     },
     "metadata": {
      "needs_background": "light"
     },
     "output_type": "display_data"
    }
   ],
   "source": [
    "#plot years smokers have been smoking and cancer diagnosis\n",
    "sb.catplot(x=\"Dx:Cancer\", y=\"smokes_years\", data= smoker);\n",
    "plt.legend(['no', 'yes'], title=\"Cervical Cancer\", loc='upper left');\n",
    "plt.xlabel('Cancer Diagnosis')\n",
    "plt.ylabel('Years of Smoking');\n",
    "plt.title('Years of Smoking and Cancer Diagnosis');"
   ]
  },
  {
   "cell_type": "markdown",
   "metadata": {
    "id": "DwiVd1QYDnKx",
    "slideshow": {
     "slide_type": "skip"
    }
   },
   "source": [
    "According to this catplot there were only two people in the data set that were smokers and had cervical cancer.  It would be hard to say if there is a relationship between smoking and cervical cancer based on this dataset.  As I investigated the information on the two individuals that had cancer, I could see that there was a lot of variation in their information.  For example, the amount of packs they smoked in a year, age, number of pregnancies, etc. did not show a relation to each other.  It is interesting to see that a large number of the women in this dataset are smokers and only two have cervical cancer.  This is counterintuitive to what I was expecting to find.  I feel that this dataset is too small for this particular questions and I feel that in order to get a better idea of if there is a relationship between smoking and cervical cancer I would need to look at a larger data set."
   ]
  },
  {
   "cell_type": "code",
   "execution_count": 26,
   "metadata": {
    "colab": {
     "base_uri": "https://localhost:8080/"
    },
    "id": "yFkM1WL5sjOJ",
    "outputId": "0a41ced8-4c69-40a2-c44e-1a4aa88b5078",
    "slideshow": {
     "slide_type": "skip"
    }
   },
   "outputs": [
    {
     "data": {
      "text/plain": [
       "count    802.000000\n",
       "mean       2.275561\n",
       "std        1.447414\n",
       "min        0.000000\n",
       "25%        1.000000\n",
       "50%        2.000000\n",
       "75%        3.000000\n",
       "max       11.000000\n",
       "Name: num_of_pregnancies, dtype: float64"
      ]
     },
     "execution_count": 26,
     "metadata": {},
     "output_type": "execute_result"
    }
   ],
   "source": [
    "#Explore number of pregnancies and cancer dx\n",
    "df_cc.num_of_pregnancies = df_cc.num_of_pregnancies.apply(pd.to_numeric)\n",
    "df_cc.num_of_pregnancies.describe()"
   ]
  },
  {
   "cell_type": "code",
   "execution_count": 27,
   "metadata": {
    "colab": {
     "base_uri": "https://localhost:8080/",
     "height": 627
    },
    "id": "WVb2-nHiq4es",
    "outputId": "93e6e344-afc7-47df-aa1d-92664f2b9aeb",
    "slideshow": {
     "slide_type": "skip"
    }
   },
   "outputs": [
    {
     "data": {
      "text/html": [
       "<div>\n",
       "<style scoped>\n",
       "    .dataframe tbody tr th:only-of-type {\n",
       "        vertical-align: middle;\n",
       "    }\n",
       "\n",
       "    .dataframe tbody tr th {\n",
       "        vertical-align: top;\n",
       "    }\n",
       "\n",
       "    .dataframe thead th {\n",
       "        text-align: right;\n",
       "    }\n",
       "</style>\n",
       "<table border=\"1\" class=\"dataframe\">\n",
       "  <thead>\n",
       "    <tr style=\"text-align: right;\">\n",
       "      <th></th>\n",
       "      <th>age</th>\n",
       "      <th>num_of_pregnancies</th>\n",
       "      <th>smokes</th>\n",
       "      <th>smokes_years</th>\n",
       "      <th>smokes_packs_per_year</th>\n",
       "      <th>hormonal_contraceptives</th>\n",
       "      <th>hormonal_contraceptives_years</th>\n",
       "      <th>Dx:Cancer</th>\n",
       "      <th>Dx:HPV</th>\n",
       "    </tr>\n",
       "  </thead>\n",
       "  <tbody>\n",
       "    <tr>\n",
       "      <th>3</th>\n",
       "      <td>52</td>\n",
       "      <td>4.0</td>\n",
       "      <td>1.0</td>\n",
       "      <td>37.0</td>\n",
       "      <td>37.00</td>\n",
       "      <td>1.0</td>\n",
       "      <td>3.00</td>\n",
       "      <td>yes</td>\n",
       "      <td>1</td>\n",
       "    </tr>\n",
       "    <tr>\n",
       "      <th>8</th>\n",
       "      <td>45</td>\n",
       "      <td>5.0</td>\n",
       "      <td>0.0</td>\n",
       "      <td>0.0</td>\n",
       "      <td>0.00</td>\n",
       "      <td>0.0</td>\n",
       "      <td>0.00</td>\n",
       "      <td>yes</td>\n",
       "      <td>1</td>\n",
       "    </tr>\n",
       "    <tr>\n",
       "      <th>23</th>\n",
       "      <td>40</td>\n",
       "      <td>2.0</td>\n",
       "      <td>0.0</td>\n",
       "      <td>0.0</td>\n",
       "      <td>0.00</td>\n",
       "      <td>1.0</td>\n",
       "      <td>15.00</td>\n",
       "      <td>yes</td>\n",
       "      <td>1</td>\n",
       "    </tr>\n",
       "    <tr>\n",
       "      <th>64</th>\n",
       "      <td>38</td>\n",
       "      <td>4.0</td>\n",
       "      <td>0.0</td>\n",
       "      <td>0.0</td>\n",
       "      <td>0.00</td>\n",
       "      <td>1.0</td>\n",
       "      <td>16.00</td>\n",
       "      <td>yes</td>\n",
       "      <td>1</td>\n",
       "    </tr>\n",
       "    <tr>\n",
       "      <th>188</th>\n",
       "      <td>27</td>\n",
       "      <td>2.0</td>\n",
       "      <td>0.0</td>\n",
       "      <td>0.0</td>\n",
       "      <td>0.00</td>\n",
       "      <td>1.0</td>\n",
       "      <td>3.00</td>\n",
       "      <td>yes</td>\n",
       "      <td>1</td>\n",
       "    </tr>\n",
       "    <tr>\n",
       "      <th>335</th>\n",
       "      <td>29</td>\n",
       "      <td>4.0</td>\n",
       "      <td>0.0</td>\n",
       "      <td>0.0</td>\n",
       "      <td>0.00</td>\n",
       "      <td>0.0</td>\n",
       "      <td>0.00</td>\n",
       "      <td>yes</td>\n",
       "      <td>1</td>\n",
       "    </tr>\n",
       "    <tr>\n",
       "      <th>432</th>\n",
       "      <td>31</td>\n",
       "      <td>1.0</td>\n",
       "      <td>0.0</td>\n",
       "      <td>0.0</td>\n",
       "      <td>0.00</td>\n",
       "      <td>0.0</td>\n",
       "      <td>0.00</td>\n",
       "      <td>yes</td>\n",
       "      <td>0</td>\n",
       "    </tr>\n",
       "    <tr>\n",
       "      <th>578</th>\n",
       "      <td>19</td>\n",
       "      <td>1.0</td>\n",
       "      <td>0.0</td>\n",
       "      <td>0.0</td>\n",
       "      <td>0.00</td>\n",
       "      <td>1.0</td>\n",
       "      <td>1.00</td>\n",
       "      <td>yes</td>\n",
       "      <td>1</td>\n",
       "    </tr>\n",
       "    <tr>\n",
       "      <th>610</th>\n",
       "      <td>21</td>\n",
       "      <td>3.0</td>\n",
       "      <td>0.0</td>\n",
       "      <td>0.0</td>\n",
       "      <td>0.00</td>\n",
       "      <td>0.0</td>\n",
       "      <td>0.00</td>\n",
       "      <td>yes</td>\n",
       "      <td>1</td>\n",
       "    </tr>\n",
       "    <tr>\n",
       "      <th>669</th>\n",
       "      <td>38</td>\n",
       "      <td>2.0</td>\n",
       "      <td>NaN</td>\n",
       "      <td>NaN</td>\n",
       "      <td>NaN</td>\n",
       "      <td>1.0</td>\n",
       "      <td>3.00</td>\n",
       "      <td>yes</td>\n",
       "      <td>1</td>\n",
       "    </tr>\n",
       "    <tr>\n",
       "      <th>727</th>\n",
       "      <td>31</td>\n",
       "      <td>2.0</td>\n",
       "      <td>0.0</td>\n",
       "      <td>0.0</td>\n",
       "      <td>0.00</td>\n",
       "      <td>1.0</td>\n",
       "      <td>9.00</td>\n",
       "      <td>yes</td>\n",
       "      <td>1</td>\n",
       "    </tr>\n",
       "    <tr>\n",
       "      <th>738</th>\n",
       "      <td>27</td>\n",
       "      <td>2.0</td>\n",
       "      <td>0.0</td>\n",
       "      <td>0.0</td>\n",
       "      <td>0.00</td>\n",
       "      <td>0.0</td>\n",
       "      <td>0.00</td>\n",
       "      <td>yes</td>\n",
       "      <td>1</td>\n",
       "    </tr>\n",
       "    <tr>\n",
       "      <th>763</th>\n",
       "      <td>41</td>\n",
       "      <td>5.0</td>\n",
       "      <td>0.0</td>\n",
       "      <td>0.0</td>\n",
       "      <td>0.00</td>\n",
       "      <td>1.0</td>\n",
       "      <td>1.00</td>\n",
       "      <td>yes</td>\n",
       "      <td>1</td>\n",
       "    </tr>\n",
       "    <tr>\n",
       "      <th>775</th>\n",
       "      <td>27</td>\n",
       "      <td>3.0</td>\n",
       "      <td>0.0</td>\n",
       "      <td>0.0</td>\n",
       "      <td>0.00</td>\n",
       "      <td>1.0</td>\n",
       "      <td>1.00</td>\n",
       "      <td>yes</td>\n",
       "      <td>1</td>\n",
       "    </tr>\n",
       "    <tr>\n",
       "      <th>797</th>\n",
       "      <td>33</td>\n",
       "      <td>3.0</td>\n",
       "      <td>0.0</td>\n",
       "      <td>0.0</td>\n",
       "      <td>0.00</td>\n",
       "      <td>1.0</td>\n",
       "      <td>0.16</td>\n",
       "      <td>yes</td>\n",
       "      <td>1</td>\n",
       "    </tr>\n",
       "    <tr>\n",
       "      <th>822</th>\n",
       "      <td>36</td>\n",
       "      <td>2.0</td>\n",
       "      <td>0.0</td>\n",
       "      <td>0.0</td>\n",
       "      <td>0.00</td>\n",
       "      <td>1.0</td>\n",
       "      <td>6.00</td>\n",
       "      <td>yes</td>\n",
       "      <td>1</td>\n",
       "    </tr>\n",
       "    <tr>\n",
       "      <th>839</th>\n",
       "      <td>31</td>\n",
       "      <td>1.0</td>\n",
       "      <td>0.0</td>\n",
       "      <td>0.0</td>\n",
       "      <td>0.00</td>\n",
       "      <td>1.0</td>\n",
       "      <td>0.08</td>\n",
       "      <td>yes</td>\n",
       "      <td>0</td>\n",
       "    </tr>\n",
       "    <tr>\n",
       "      <th>849</th>\n",
       "      <td>32</td>\n",
       "      <td>1.0</td>\n",
       "      <td>1.0</td>\n",
       "      <td>11.0</td>\n",
       "      <td>0.16</td>\n",
       "      <td>1.0</td>\n",
       "      <td>6.00</td>\n",
       "      <td>yes</td>\n",
       "      <td>1</td>\n",
       "    </tr>\n",
       "  </tbody>\n",
       "</table>\n",
       "</div>"
      ],
      "text/plain": [
       "     age  num_of_pregnancies  smokes  smokes_years  smokes_packs_per_year  \\\n",
       "3     52                 4.0     1.0          37.0                  37.00   \n",
       "8     45                 5.0     0.0           0.0                   0.00   \n",
       "23    40                 2.0     0.0           0.0                   0.00   \n",
       "64    38                 4.0     0.0           0.0                   0.00   \n",
       "188   27                 2.0     0.0           0.0                   0.00   \n",
       "335   29                 4.0     0.0           0.0                   0.00   \n",
       "432   31                 1.0     0.0           0.0                   0.00   \n",
       "578   19                 1.0     0.0           0.0                   0.00   \n",
       "610   21                 3.0     0.0           0.0                   0.00   \n",
       "669   38                 2.0     NaN           NaN                    NaN   \n",
       "727   31                 2.0     0.0           0.0                   0.00   \n",
       "738   27                 2.0     0.0           0.0                   0.00   \n",
       "763   41                 5.0     0.0           0.0                   0.00   \n",
       "775   27                 3.0     0.0           0.0                   0.00   \n",
       "797   33                 3.0     0.0           0.0                   0.00   \n",
       "822   36                 2.0     0.0           0.0                   0.00   \n",
       "839   31                 1.0     0.0           0.0                   0.00   \n",
       "849   32                 1.0     1.0          11.0                   0.16   \n",
       "\n",
       "    hormonal_contraceptives  hormonal_contraceptives_years Dx:Cancer  Dx:HPV  \n",
       "3                       1.0                           3.00       yes       1  \n",
       "8                       0.0                           0.00       yes       1  \n",
       "23                      1.0                          15.00       yes       1  \n",
       "64                      1.0                          16.00       yes       1  \n",
       "188                     1.0                           3.00       yes       1  \n",
       "335                     0.0                           0.00       yes       1  \n",
       "432                     0.0                           0.00       yes       0  \n",
       "578                     1.0                           1.00       yes       1  \n",
       "610                     0.0                           0.00       yes       1  \n",
       "669                     1.0                           3.00       yes       1  \n",
       "727                     1.0                           9.00       yes       1  \n",
       "738                     0.0                           0.00       yes       1  \n",
       "763                     1.0                           1.00       yes       1  \n",
       "775                     1.0                           1.00       yes       1  \n",
       "797                     1.0                           0.16       yes       1  \n",
       "822                     1.0                           6.00       yes       1  \n",
       "839                     1.0                           0.08       yes       0  \n",
       "849                     1.0                           6.00       yes       1  "
      ]
     },
     "execution_count": 27,
     "metadata": {},
     "output_type": "execute_result"
    }
   ],
   "source": [
    "#filter all women with a positive cervical cancer diagnosis\n",
    "cancer_dx = df_cc[df_cc['Dx:Cancer']=='yes']\n",
    "cancer_dx"
   ]
  },
  {
   "cell_type": "code",
   "execution_count": 28,
   "metadata": {
    "colab": {
     "base_uri": "https://localhost:8080/"
    },
    "id": "A0FQyodpvX5V",
    "outputId": "108b3e85-0dfe-42ea-9775-442b574f5b59",
    "slideshow": {
     "slide_type": "skip"
    }
   },
   "outputs": [
    {
     "data": {
      "text/plain": [
       "18"
      ]
     },
     "execution_count": 28,
     "metadata": {},
     "output_type": "execute_result"
    }
   ],
   "source": [
    "size_of_grps = []\n",
    "#loop through cancer_dx to get group sizes for donut chart\n",
    "for i in range(int(cancer_dx.num_of_pregnancies.max() + 1)):\n",
    "    size_of_grps.append(cancer_dx[cancer_dx['num_of_pregnancies'] == i].shape[0])\n",
    "sum(size_of_grps)\n",
    "\n"
   ]
  },
  {
   "cell_type": "markdown",
   "metadata": {
    "slideshow": {
     "slide_type": "slide"
    }
   },
   "source": [
    "## Number of Pregnancies for Women with Cervical Cancer\n",
    "When considering all of the women in the dataset that had a positive cervical cancer diagnosis and their number of pregnancies, the data shows that there could be a positive relationship between number of pregnancies and cervical cancer risk.  Futhermore, the data shows a significant difference in whether or not a woman had ever been pregnant and her chances of a positive cervical cancer diagnosis. Women that had never been pregnant make up 0% of the whole of women with a positive cervical cancer diagnosis.\n",
    "\n"
   ]
  },
  {
   "cell_type": "code",
   "execution_count": 29,
   "metadata": {
    "colab": {
     "base_uri": "https://localhost:8080/",
     "height": 591
    },
    "id": "d2EZtEfZtQAT",
    "outputId": "0f781092-5754-4014-d917-b88ce8bf0af2",
    "slideshow": {
     "slide_type": "subslide"
    }
   },
   "outputs": [
    {
     "data": {
      "image/png": "[encoded data removed]",
      "text/plain": [
       "<Figure size 720x720 with 1 Axes>"
      ]
     },
     "metadata": {},
     "output_type": "display_data"
    }
   ],
   "source": [
    "plt.figure(figsize=[10,10])\n",
    "labels = []\n",
    "#create labels for donut chart\n",
    "for i in range(len(size_of_grps)):\n",
    "    if i == 1:\n",
    "        labels.append(str(i) + ' pregnancy ' + '(' + str(round(i/cancer_dx.shape[0] *100)) + ' %' + ')')\n",
    "    else:\n",
    "        labels.append(str(i) + ' pregnancies ' + '(' + str(round(i/cancer_dx.shape[0] *100)) + ' %' + ')')\n",
    "\n",
    "# Create a pieplot\n",
    "plt.pie(size_of_grps, labels = labels, counterclock=False)\n",
    "plt.title('Cancer Diagnosis and Number of Pregnancies')\n",
    "\n",
    "# add a circle at the center to transform it in a donut chart\n",
    "my_circle=plt.Circle( (0,0), 0.7, color='white')\n",
    "p=plt.gcf()\n",
    "p.gca().add_artist(my_circle)\n",
    "\n",
    "plt.show(); "
   ]
  },
  {
   "cell_type": "markdown",
   "metadata": {
    "id": "bP0bJv-z3XSu",
    "slideshow": {
     "slide_type": "skip"
    }
   },
   "source": [
    "This donut plot shows the parts of the whole relationship between number of preganancies and cancer diagnosis.  The donut plot shows all the indiviuals in the dataset that had a positive cervical cancer diagnosis and the number of pregnancies that they experienced.  It is hard to tell from this donut plot if the number of pregnancies is significant in leading to a positive cervical cancer diagnosis.  However, it does show that there could be a significant difference in whether or not a woman had ever been pregnant and her chances of a positive cervical cancer diagnosis. Women that had never been pregnant represent a very small fraction of the whole of women with a cervical cancer diagnosis. "
   ]
  },
  {
   "cell_type": "markdown",
   "metadata": {
    "id": "GXEcLZr1w5sC",
    "slideshow": {
     "slide_type": "skip"
    }
   },
   "source": [
    "## Multivariante Plots\n",
    "\n",
    "- age, number of preganancies, and cancer diagnosis\n",
    "- smoking frequency, years on hormonal contraceptive, cancer diagnosis\n",
    "- age, years on hormonal contraceptive, cancer diagnosis\n",
    "-age, cancer dx, and HPV dx"
   ]
  },
  {
   "cell_type": "markdown",
   "metadata": {
    "slideshow": {
     "slide_type": "slide"
    }
   },
   "source": [
    "## Age, Number of Pregnancies, and Cervical Cancer\n",
    "\n",
    "In order to get a better picture of how the number of pregnancies may impact a woman's risk for cervical cancer,  I explored how age may affect the relationship between number of pregnancies and cervical cancer.  I wanted to see if number of pregnancies was simply an indicator of age or if the data showed a relationship regardless of age.\n",
    "The scatter plot below shows similar information to that which I found in the donut plot in regards to number of pregnancies and cervical cancer. You can see that at 0 pregnancies there are no positive cervical cancer diagnosises.  However, it also shows very few negative diagnosises. We can see this trend continues regardless of age.  This could mean that there is a relation to the number of preganancies and cervical cancer or it could mean that women that had never been preganant were not tested.  This would makes sense as an HPV test is recommended when a woman is getting prenatal care. Finally, the data shows a positive correlation between age, number of pregnancies and cervical cancer between the ages of 19-53."
   ]
  },
  {
   "cell_type": "code",
   "execution_count": 30,
   "metadata": {
    "colab": {
     "base_uri": "https://localhost:8080/",
     "height": 626
    },
    "id": "9CkkH1ST7_L3",
    "outputId": "bc80a052-04ab-4d22-853c-bf50b101f136",
    "slideshow": {
     "slide_type": "subslide"
    }
   },
   "outputs": [
    {
     "data": {
      "image/png": "[encoded data removed]",
      "text/plain": [
       "<Figure size 720x360 with 1 Axes>"
      ]
     },
     "metadata": {
      "needs_background": "light"
     },
     "output_type": "display_data"
    }
   ],
   "source": [
    "#age, number of preganancies, and cancer diagnosis\n",
    "#set markers\n",
    "\n",
    "cancer_markers = [['no', 'v'], ['yes', 'o']]\n",
    "#set figure size and apply markers to data\n",
    "plt.figure(figsize=[10,5]);\n",
    "for ctype, marker in cancer_markers:\n",
    "    plot_data = df_cc.loc[df_cc['Dx:Cancer'] == ctype] \n",
    "    sb.regplot(data=plot_data, x='age', y='num_of_pregnancies', y_jitter=0.5, x_jitter=0.5, fit_reg=False, marker=marker);\n",
    "\n",
    "plt.legend(['no', 'yes'], title=\"Cervical Cancer\");\n",
    "plt.xlabel('Age (years)')\n",
    "plt.ylabel('Number of Pregnancies');\n",
    "plt.title('Age, Number of Pregnancies, and Cervical Cancer');"
   ]
  },
  {
   "cell_type": "code",
   "execution_count": 31,
   "metadata": {
    "colab": {
     "base_uri": "https://localhost:8080/",
     "height": 297
    },
    "id": "eLauNQZvkJdb",
    "outputId": "b9d57fd1-0e3c-462a-eee1-2c5e8b380711",
    "slideshow": {
     "slide_type": "skip"
    }
   },
   "outputs": [
    {
     "data": {
      "image/png": "[encoded data removed]",
      "text/plain": [
       "<Figure size 432x288 with 1 Axes>"
      ]
     },
     "metadata": {
      "needs_background": "light"
     },
     "output_type": "display_data"
    }
   ],
   "source": [
    "#Smoking frequency, years on hormonal contraceptive, cancer diagnosis\n",
    "g = sb.FacetGrid(data=df_cc, hue='Dx:Cancer', hue_order=['no', 'yes'], height = 4, aspect=1.5)\n",
    "\n",
    "g.map(sb.regplot, 'hormonal_contraceptives_years', 'smokes_packs_per_year', y_jitter = 0.8, fit_reg=False);\n",
    "\n",
    "plt.legend(['no', 'yes'], title=\"Cervical Cancer\");"
   ]
  },
  {
   "cell_type": "markdown",
   "metadata": {
    "id": "YZ3RNvU0RPps",
    "slideshow": {
     "slide_type": "skip"
    }
   },
   "source": [
    "The above plot shows the relationship between smoking frequency, hormonal contraceptives and cervical cancer.  The dataset only has two patients that are both smokers and have cervical cancer.  I can see that the two smokers with cervical cancer vary greatly in their smoking frequency and years on hormonal contraceptives.  Howeve, it would be  hard to say from this dataset if there is a relationship between smoking and cervical cancer given the low number of of patients that are positive for cervical cancer and also are smokers.  "
   ]
  },
  {
   "cell_type": "markdown",
   "metadata": {
    "slideshow": {
     "slide_type": "slide"
    }
   },
   "source": [
    "## Age, Hormonal Contraceptive Use, and Cancer Diagnosis\n",
    "\n",
    "The relationship between longevity of hormonal contraceptive use, age, and cervical cancer appears to have a positive relationship. There seems to be a greater number of women that use hormonal contraceptives and are positive of cervical cancer between the ages of 27-37. It is hard to tell if the longevity of hormonal contraceptive use has a major effect on a women's risk for cervical cancer but the data does show that any use of hormonal contraceptives combined with age could increase a woman;s risk of cervical cancer."
   ]
  },
  {
   "cell_type": "code",
   "execution_count": 32,
   "metadata": {
    "colab": {
     "base_uri": "https://localhost:8080/",
     "height": 626
    },
    "id": "r_l6TrgeqFmB",
    "outputId": "269b8f03-78f2-4d8e-bde3-c51072654b6f",
    "slideshow": {
     "slide_type": "subslide"
    }
   },
   "outputs": [
    {
     "data": {
      "image/png": "[encoded data removed]",
      "text/plain": [
       "<Figure size 720x360 with 1 Axes>"
      ]
     },
     "metadata": {
      "needs_background": "light"
     },
     "output_type": "display_data"
    }
   ],
   "source": [
    "#age, years on hormonal contraceptive, cancer diagnosis\n",
    "#set markers\n",
    "cancer_markers = [['no', 'v'], ['yes', 'o']]\n",
    "#set figure size and apply markers to data\n",
    "plt.figure(figsize=[10,5]);\n",
    "for ctype, marker in cancer_markers:\n",
    "    plot_data = df_cc.loc[df_cc['Dx:Cancer'] == ctype] \n",
    "    sb.regplot(data=plot_data, x='age', y='hormonal_contraceptives_years',y_jitter=0.9, x_jitter=0.5, marker=marker);\n",
    "#set limits on data to get a better picture of concentrated areas\n",
    "plt.ylim((0,10))\n",
    "plt.xlim((10, 55))\n",
    "\n",
    "plt.legend(['no', 'yes'], title=\"Cervical Cancer\");\n",
    "plt.title('Age, Hormonal Contraceptive Use, and Cancer Diagnosis')\n",
    "plt.xlabel('Age (years)')\n",
    "plt.ylabel('Hormonal Contraceptive Use (years)');"
   ]
  },
  {
   "cell_type": "markdown",
   "metadata": {
    "id": "M_XEvt06SXY-",
    "slideshow": {
     "slide_type": "skip"
    }
   },
   "source": [
    "The above plot shows the relationship between hormonal contraceptives, age, and cervical cancer.  I can see that there seems to be a greater number of patients between the ages of 15 - 35 that have a positive cancer diagnosis.  There seem to be more positive cancer diagnosises as you go up in hormonal contraceptive years."
   ]
  },
  {
   "cell_type": "markdown",
   "metadata": {
    "slideshow": {
     "slide_type": "slide"
    }
   },
   "source": [
    "## Positive for Cervical Cancer, Age, and HPV Diagnosis\n",
    "\n",
    "To prepare the visual, I filtered the data for women that were positive for cervical cancer and then grouped them by age. I compared their HPV diagnosises to see if there was an uneven distribution between those that had a positive HPV diagnosis and those that were negative.  The results of the investigation show that a majority of the women from the dataset that were positive for cervical cancer were also positive for HPV. "
   ]
  },
  {
   "cell_type": "code",
   "execution_count": 33,
   "metadata": {
    "colab": {
     "base_uri": "https://localhost:8080/",
     "height": 621
    },
    "id": "n6M3FnSkGcEu",
    "outputId": "c18f8cc0-600d-47eb-cf33-0de5d62f19dc",
    "slideshow": {
     "slide_type": "subslide"
    }
   },
   "outputs": [
    {
     "data": {
      "image/png": "[encoded data removed]",
      "text/plain": [
       "<Figure size 1080x540 with 1 Axes>"
      ]
     },
     "metadata": {
      "needs_background": "light"
     },
     "output_type": "display_data"
    }
   ],
   "source": [
    "#get all who have cancer and their HPV Dx\n",
    "pos_hpv_cancer =  df_cc[(df_cc['Dx:Cancer'] == 'yes') & (df_cc['Dx:HPV'] == 1)]\n",
    "neg_hpv_cancer =  df_cc[(df_cc['Dx:Cancer'] == 'yes') & (df_cc['Dx:HPV'] == 0)]\n",
    "\n",
    "#break into age groups\n",
    "labels = ['Under 20', '20-40', '40-60', '60-80', 'Over 80']\n",
    "bins = [0, 20, 40, 60, 80, 100]\n",
    "plt.figure(figsize=[15,7.5])\n",
    "\n",
    "#bins for age, positive for hpv, and cancer\n",
    "age_bins1 = pd.cut(pos_hpv_cancer.age, bins=bins, include_lowest=True)\n",
    "ax1 = age_bins1.value_counts().sort_index(ascending=True)\n",
    "#bins for age, negative for hpv and cancer\n",
    "age_bins2 = pd.cut(neg_hpv_cancer.age, bins=bins, include_lowest=True)\n",
    "ax2 = age_bins2.value_counts().sort_index(ascending=True)\n",
    "\n",
    "#set labels on x-axis\n",
    "x_axis = np.arange(len(labels))\n",
    "plt.bar(x_axis - 0.2, ax1, 0.4, label = 'Positive')\n",
    "plt.bar(x_axis + 0.2, ax2, 0.4, label = 'Negative')\n",
    "\n",
    "plt.xticks(x_axis, labels)\n",
    "plt.xlabel(\"Ages\")\n",
    "plt.ylabel(\"HPV Dx Count\")\n",
    "plt.title(\"Women with Cervical Cancer and HPV Diagnosis\")\n",
    "plt.legend(title = 'HPV Diagnosis')\n",
    "plt.show();"
   ]
  },
  {
   "cell_type": "markdown",
   "metadata": {
    "id": "7V3m4FlDTZYe",
    "slideshow": {
     "slide_type": "skip"
    }
   },
   "source": [
    "This bar chart shows that of the patients that had a positive cervical cancer diagnosis, most of them also had a positive HPV diagnosis.  "
   ]
  },
  {
   "cell_type": "markdown",
   "metadata": {
    "slideshow": {
     "slide_type": "slide"
    }
   },
   "source": [
    "## Women with Cervical Cancer, Number of Pregnancies and HPV Diagnosis\n",
    "\n",
    "In the beginning of this presentation there was information from research on a variety of risk factors for cervical cancer.  The information said that a woman's risk for cervical cancer went up significantly if she had a positive HPV diagnosis and numerous pregnancies. I explored the dataset to see if this data told the same story. I used a catplot to show the relation of the three variables. I placed the cervical cancer diagnosis on the x-axis and the number of pregnancies on the y-axis.  I then added a hue to signifiy if a woman was HPV positive (yes) or negative (no). I found that of the women that were positive for cervical cancer, all of them had at least one pregnancy and most were HPV positive.  All women who had more than one pregnancy and HPV positive had a positive cervical cancer diagnosis."
   ]
  },
  {
   "cell_type": "code",
   "execution_count": 34,
   "metadata": {
    "id": "R1xIGULRTrCC",
    "slideshow": {
     "slide_type": "skip"
    }
   },
   "outputs": [
    {
     "data": {
      "image/png": "[encoded data removed]",
      "text/plain": [
       "<Figure size 1080x540 with 1 Axes>"
      ]
     },
     "metadata": {
      "needs_background": "light"
     },
     "output_type": "display_data"
    }
   ],
   "source": [
    "#get all who have cancer and their HPV Dx\n",
    "pos_hpv_cancer =  df_cc[(df_cc['Dx:Cancer'] == 'yes') & (df_cc['Dx:HPV'] == 1)]\n",
    "neg_hpv_cancer =  df_cc[(df_cc['Dx:Cancer'] == 'yes') & (df_cc['Dx:HPV'] == 0)]\n",
    "\n",
    "#break into age groups\n",
    "labels = ['0','1', '2', '3', '4', '5']\n",
    "bins = np.arange(0, pos_hpv_cancer.num_of_pregnancies.max() + 1, .9)\n",
    "plt.figure(figsize=[15,7.5])\n",
    "#bins for number of pregnancies, positive for cancer and positive hpv\n",
    "preg_bins1 = pd.cut(pos_hpv_cancer.num_of_pregnancies, bins=bins, include_lowest=True)\n",
    "ax1 = preg_bins1.value_counts().sort_index(ascending=True)\n",
    "\n",
    "#bins for number of pregnancies, positive for cancer and negative hpv\n",
    "preg_bins2 = pd.cut(neg_hpv_cancer.num_of_pregnancies, bins=bins, include_lowest=True)\n",
    "ax2 = preg_bins2.value_counts().sort_index(ascending=True)\n",
    "\n",
    "x_axis = np.arange(len(labels))\n",
    "plt.bar(x_axis - 0.2, ax1, 0.4, label = 'Positive')\n",
    "plt.bar(x_axis + 0.2, ax2, 0.4, label = 'Negative')\n",
    "\n",
    "plt.xticks(x_axis, labels)\n",
    "plt.xlabel(\"Number of Pregnancies\")\n",
    "plt.ylabel(\"HPV Dx Count\")\n",
    "plt.title(\"Women with Cervical Cancer, Number of Pregnancies and HPV Diagnosis\")\n",
    "plt.legend(title = 'HPV Diagnosis')\n",
    "plt.show();"
   ]
  },
  {
   "cell_type": "code",
   "execution_count": 35,
   "metadata": {
    "slideshow": {
     "slide_type": "skip"
    }
   },
   "outputs": [
    {
     "data": {
      "text/plain": [
       "array([0, 1])"
      ]
     },
     "execution_count": 35,
     "metadata": {},
     "output_type": "execute_result"
    }
   ],
   "source": [
    "df_cc['Dx:HPV'].unique()"
   ]
  },
  {
   "cell_type": "code",
   "execution_count": 36,
   "metadata": {
    "slideshow": {
     "slide_type": "subslide"
    }
   },
   "outputs": [
    {
     "data": {
      "image/png": "[encoded data removed]",
      "text/plain": [
       "<Figure size 360x360 with 1 Axes>"
      ]
     },
     "metadata": {
      "needs_background": "light"
     },
     "output_type": "display_data"
    }
   ],
   "source": [
    "#plot years smokers have been smoking and cancer diagnosis\n",
    "\n",
    "sb.catplot(x=\"Dx:Cancer\", y=\"num_of_pregnancies\", hue='Dx:HPV', legend=False, data= df_cc);\n",
    "plt.legend(['no', 'yes'], title=\"HPV Dx\")\n",
    "plt.xlabel('Cancer Diagnosis')\n",
    "plt.ylabel('Number of Pregnancies');\n",
    "plt.title('Cervical Cancer in Relation to Number of Pregnancies and HPV Diagnosis');\n"
   ]
  },
  {
   "cell_type": "code",
   "execution_count": null,
   "metadata": {
    "slideshow": {
     "slide_type": "skip"
    }
   },
   "outputs": [],
   "source": [
    "!jupyter nbconvert Cervical_Cancer_Risks_Part_Two.ipynb --to slides --post serve  --no-input --no-prompt "
   ]
  },
  {
   "cell_type": "code",
   "execution_count": null,
   "metadata": {},
   "outputs": [],
   "source": []
  },
  {
   "cell_type": "code",
   "execution_count": null,
   "metadata": {},
   "outputs": [],
   "source": []
  }
 ],
 "metadata": {
  "celltoolbar": "Slideshow",
  "colab": {
   "name": "Cervical_Cancer_Risks_Part_Two.ipynb",
   "provenance": [],
   "toc_visible": true
  },
  "hide_input": false,
  "kernelspec": {
   "display_name": "Python 3",
   "language": "python",
   "name": "python3"
  },
  "language_info": {
   "codemirror_mode": {
    "name": "ipython",
    "version": 3
   },
   "file_extension": ".py",
   "mimetype": "text/x-python",
   "name": "python",
   "nbconvert_exporter": "python",
   "pygments_lexer": "ipython3",
   "version": "3.8.8"
  }
 },
 "nbformat": 4,
 "nbformat_minor": 1
}
